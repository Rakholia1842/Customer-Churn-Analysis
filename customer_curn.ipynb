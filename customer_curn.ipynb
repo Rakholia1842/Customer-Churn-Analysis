{
 "cells": [
  {
   "cell_type": "code",
   "execution_count": 12,
   "metadata": {},
   "outputs": [
    {
     "name": "stdout",
     "output_type": "stream",
     "text": [
      "   customerID  Gender  SeniorCitizen Partner Dependents  Tenure PhoneService  \\\n",
      "0  7590-VHVEG  Female              0     Yes         No       1           No   \n",
      "1  5575-GNVDE    Male              0      No         No      34          Yes   \n",
      "2  3668-QPYBK    Male              0      No         No       2          Yes   \n",
      "3  7795-CFOCW    Male              0      No         No      45           No   \n",
      "4  9237-HQITU  Female              0      No         No       2          Yes   \n",
      "\n",
      "  MultipleLines InternetService OnlineSecurity  ... DeviceProtection  \\\n",
      "0            No             DSL             No  ...               No   \n",
      "1            No             DSL            Yes  ...              Yes   \n",
      "2            No             DSL            Yes  ...               No   \n",
      "3            No             DSL            Yes  ...              Yes   \n",
      "4            No     Fiber optic             No  ...               No   \n",
      "\n",
      "  TechSupport StreamingTV StreamingMovies  Contract PaperlessBilling  \\\n",
      "0          No          No              No   Monthly              Yes   \n",
      "1          No          No              No  One year               No   \n",
      "2          No          No              No   Monthly              Yes   \n",
      "3         Yes          No              No  One year               No   \n",
      "4          No          No              No   Monthly              Yes   \n",
      "\n",
      "               PaymentMethod MonthlyCharges  TotalCharges Churn  \n",
      "0                     Manual          29.85         29.85    No  \n",
      "1                     Manual          56.95        1889.5    No  \n",
      "2                     Manual          53.85        108.15   Yes  \n",
      "3  Bank transfer (automatic)          42.30       1840.75    No  \n",
      "4                     Manual          70.70        151.65   Yes  \n",
      "\n",
      "[5 rows x 21 columns]\n"
     ]
    }
   ],
   "source": [
    "# Define the URL for the dataset\n",
    "url = \"https://github.com/YBIFoundation/Dataset/raw/main/TelecomCustomerChurn.csv\"\n",
    "\n",
    "# Read the CSV file directly from the URL\n",
    "df = pd.read_csv(url)\n",
    "\n",
    "# Display the first few rows to check if data loaded correctly\n",
    "print(df.head())"
   ]
  },
  {
   "cell_type": "code",
   "execution_count": 13,
   "metadata": {},
   "outputs": [
    {
     "name": "stdout",
     "output_type": "stream",
     "text": [
      "Shape: (7043, 21)\n",
      "<class 'pandas.core.frame.DataFrame'>\n",
      "RangeIndex: 7043 entries, 0 to 7042\n",
      "Data columns (total 21 columns):\n",
      " #   Column            Non-Null Count  Dtype  \n",
      "---  ------            --------------  -----  \n",
      " 0   customerID        7043 non-null   object \n",
      " 1   Gender            7043 non-null   object \n",
      " 2   SeniorCitizen     7043 non-null   int64  \n",
      " 3   Partner           7043 non-null   object \n",
      " 4   Dependents        7043 non-null   object \n",
      " 5   Tenure            7043 non-null   int64  \n",
      " 6   PhoneService      7043 non-null   object \n",
      " 7   MultipleLines     7043 non-null   object \n",
      " 8   InternetService   7043 non-null   object \n",
      " 9   OnlineSecurity    7043 non-null   object \n",
      " 10  OnlineBackup      7043 non-null   object \n",
      " 11  DeviceProtection  7043 non-null   object \n",
      " 12  TechSupport       7043 non-null   object \n",
      " 13  StreamingTV       7043 non-null   object \n",
      " 14  StreamingMovies   7043 non-null   object \n",
      " 15  Contract          7043 non-null   object \n",
      " 16  PaperlessBilling  7043 non-null   object \n",
      " 17  PaymentMethod     7043 non-null   object \n",
      " 18  MonthlyCharges    7043 non-null   float64\n",
      " 19  TotalCharges      7043 non-null   object \n",
      " 20  Churn             7043 non-null   object \n",
      "dtypes: float64(1), int64(2), object(18)\n",
      "memory usage: 1.1+ MB\n",
      "None\n",
      "       SeniorCitizen       Tenure  MonthlyCharges\n",
      "count    7043.000000  7043.000000     7043.000000\n",
      "mean        0.162147    32.371149       64.761692\n",
      "std         0.368612    24.559481       30.090047\n",
      "min         0.000000     0.000000       18.250000\n",
      "25%         0.000000     9.000000       35.500000\n",
      "50%         0.000000    29.000000       70.350000\n",
      "75%         0.000000    55.000000       89.850000\n",
      "max         1.000000    72.000000      118.750000\n"
     ]
    }
   ],
   "source": [
    "# Check the dimensions and info\n",
    "print(\"Shape:\", df.shape)\n",
    "print(df.info())\n",
    "\n",
    "# Summary statistics for numerical columns\n",
    "print(df.describe())"
   ]
  },
  {
   "cell_type": "code",
   "execution_count": 14,
   "metadata": {},
   "outputs": [
    {
     "name": "stdout",
     "output_type": "stream",
     "text": [
      "customerID          0\n",
      "Gender              0\n",
      "SeniorCitizen       0\n",
      "Partner             0\n",
      "Dependents          0\n",
      "Tenure              0\n",
      "PhoneService        0\n",
      "MultipleLines       0\n",
      "InternetService     0\n",
      "OnlineSecurity      0\n",
      "OnlineBackup        0\n",
      "DeviceProtection    0\n",
      "TechSupport         0\n",
      "StreamingTV         0\n",
      "StreamingMovies     0\n",
      "Contract            0\n",
      "PaperlessBilling    0\n",
      "PaymentMethod       0\n",
      "MonthlyCharges      0\n",
      "TotalCharges        0\n",
      "Churn               0\n",
      "dtype: int64\n"
     ]
    }
   ],
   "source": [
    "#Drop rows with missing values\n",
    "df.dropna(inplace=True)\n",
    "\n",
    "print(df.isnull().sum())"
   ]
  },
  {
   "cell_type": "code",
   "execution_count": 15,
   "metadata": {},
   "outputs": [
    {
     "name": "stdout",
     "output_type": "stream",
     "text": [
      "Index(['customerID', 'Gender', 'SeniorCitizen', 'Partner', 'Dependents',\n",
      "       'Tenure', 'PhoneService', 'MultipleLines', 'InternetService',\n",
      "       'OnlineSecurity', 'OnlineBackup', 'DeviceProtection', 'TechSupport',\n",
      "       'StreamingTV', 'StreamingMovies', 'Contract', 'PaperlessBilling',\n",
      "       'PaymentMethod', 'MonthlyCharges', 'TotalCharges', 'Churn'],\n",
      "      dtype='object')\n"
     ]
    }
   ],
   "source": [
    "print(df.columns)\n"
   ]
  },
  {
   "cell_type": "code",
   "execution_count": 16,
   "metadata": {},
   "outputs": [],
   "source": [
    "# Drop rows with missing values (if not many)\n",
    "df_cleaned = df.dropna()\n",
    "\n",
    "# Or fill missing numeric values with the column mean:\n",
    "# df['SomeNumericColumn'] = df['SomeNumericColumn'].fillna(df['SomeNumericColumn'].mean())"
   ]
  },
  {
   "cell_type": "code",
   "execution_count": 17,
   "metadata": {},
   "outputs": [],
   "source": [
    "# If there's a date column, convert it to datetime\n",
    "if 'JoinDate' in df_cleaned.columns:\n",
    "    df_cleaned['JoinDate'] = pd.to_datetime(df_cleaned['JoinDate'])\n",
    "\n",
    "# Convert churn column to a categorical type if needed\n",
    "if 'Churn' in df_cleaned.columns:\n",
    "    df_cleaned['Churn'] = df_cleaned['Churn'].astype('category')"
   ]
  },
  {
   "cell_type": "code",
   "execution_count": 23,
   "metadata": {},
   "outputs": [],
   "source": [
    "# Example: If you have a 'tenure' column, you can use it directly or create it from dates:\n",
    "# df_cleaned['tenure'] = (pd.to_datetime('today') - df_cleaned['JoinDate']).dt.days"
   ]
  },
  {
   "cell_type": "code",
   "execution_count": 18,
   "metadata": {},
   "outputs": [],
   "source": [
    "df_cleaned.to_csv('cleaned_telecom_churn.csv', index=False)"
   ]
  },
  {
   "cell_type": "code",
   "execution_count": 19,
   "metadata": {},
   "outputs": [
    {
     "name": "stdout",
     "output_type": "stream",
     "text": [
      "Churn Rate (%):\n",
      "Churn\n",
      "No     73.463013\n",
      "Yes    26.536987\n",
      "Name: proportion, dtype: float64\n"
     ]
    }
   ],
   "source": [
    "churn_rate = df_cleaned['Churn'].value_counts(normalize=True) * 100\n",
    "print(\"Churn Rate (%):\")\n",
    "print(churn_rate)"
   ]
  },
  {
   "cell_type": "code",
   "execution_count": 24,
   "metadata": {},
   "outputs": [
    {
     "data": {
      "image/png": "[encoded data removed]",
      "text/plain": [
       "<Figure size 1000x600 with 1 Axes>"
      ]
     },
     "metadata": {},
     "output_type": "display_data"
    }
   ],
   "source": [
    "plt.figure(figsize=(10,6))\n",
    "sns.boxplot(x='Churn', y='MonthlyCharges', data=df_cleaned)\n",
    "plt.title(\"Monthly Charges by Churn Status\")\n",
    "plt.show()"
   ]
  },
  {
   "cell_type": "code",
   "execution_count": 25,
   "metadata": {},
   "outputs": [
    {
     "name": "stdout",
     "output_type": "stream",
     "text": [
      "  Churn  count\n",
      "0    No   5174\n",
      "1   Yes   1869\n"
     ]
    }
   ],
   "source": [
    "import sqlite3\n",
    "\n",
    "# Create a SQLite connection\n",
    "conn = sqlite3.connect('telecom_churn.db')\n",
    "\n",
    "# Write the dataframe to SQL table\n",
    "df_cleaned.to_sql('churn_data', conn, if_exists='replace', index=False)\n",
    "\n",
    "# Example query: Count churned vs. non-churned customers\n",
    "query = \"SELECT Churn, COUNT(*) as count FROM churn_data GROUP BY Churn;\"\n",
    "result = pd.read_sql_query(query, conn)\n",
    "print(result)\n",
    "\n",
    "conn.close()"
   ]
  }
 ],
 "metadata": {
  "kernelspec": {
   "display_name": ".venv",
   "language": "python",
   "name": "python3"
  },
  "language_info": {
   "codemirror_mode": {
    "name": "ipython",
    "version": 3
   },
   "file_extension": ".py",
   "mimetype": "text/x-python",
   "name": "python",
   "nbconvert_exporter": "python",
   "pygments_lexer": "ipython3",
   "version": "3.13.1"
  }
 },
 "nbformat": 4,
 "nbformat_minor": 2
}
